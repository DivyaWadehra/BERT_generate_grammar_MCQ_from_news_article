{
 "cells": [
  {
   "cell_type": "code",
   "execution_count": null,
   "metadata": {},
   "outputs": [],
   "source": [
    "!pip install pytorch-pretrained-bert==0.6.2\n",
    "!pip install git+https://github.com/boudinfl/pke.git\n",
    "!pip install flashtext\n",
    "!python -m spacy download en\n",
    "!python -m nltk.downloader universal_tagset"
   ]
  },
  {
   "cell_type": "markdown",
   "metadata": {},
   "source": [
    "### Step 1: Preparing BERT to return top N choices for a blanked word in a sentence. \n",
    "Eg: **Input**: The Sun is more ____ 4 billion years old. \n",
    "    **Output**: [than, like, of .....]"
   ]
  },
  {
   "cell_type": "code",
   "execution_count": 1,
   "metadata": {},
   "outputs": [
    {
     "name": "stdout",
     "output_type": "stream",
     "text": [
      "Time Elapsed to load BERT  8.13802194595337\n"
     ]
    }
   ],
   "source": [
    "import re\n",
    "import torch\n",
    "from pytorch_pretrained_bert import BertTokenizer,BertForMaskedLM\n",
    "\n",
    "# Load pre-trained model tokenizer (vocabulary)\n",
    "import time\n",
    "start = time.time()\n",
    "tokenizer = BertTokenizer.from_pretrained('bert-base-uncased')\n",
    "model = BertForMaskedLM.from_pretrained('bert-base-uncased')\n",
    "model.eval()\n",
    "end = time.time()\n",
    "print (\"Time Elapsed to load BERT \",end-start)"
   ]
  },
  {
   "cell_type": "code",
   "execution_count": 2,
   "metadata": {},
   "outputs": [],
   "source": [
    "# Main function to predict the top 30 choices for the fill in the blank word using BERT. \n",
    "# Eg: The Sun is more ____ 4 billion years old.\n",
    "\n",
    "def get_predicted_words(text):\n",
    "    text = \"[CLS] \" + text.replace(\"____\", \"[MASK]\") + \" [SEP]\"\n",
    "    # text= '[CLS] Tom has fully [MASK] from his illness. [SEP]'\n",
    "    tokenized_text = tokenizer.tokenize(text)\n",
    "    #print(\"tokenized sentence: \",tokenized_text,\"\\n\")\n",
    "    masked_index = tokenized_text.index('[MASK]')\n",
    "    indexed_tokens = tokenizer.convert_tokens_to_ids(tokenized_text)\n",
    "\n",
    "    # Create the segments tensors.\n",
    "    segments_ids = [0] * len(tokenized_text)\n",
    "\n",
    "    # Convert inputs to PyTorch tensors\n",
    "    tokens_tensor = torch.tensor([indexed_tokens])\n",
    "    segments_tensors = torch.tensor([segments_ids])\n",
    "\n",
    "    # Predict all tokens\n",
    "    with torch.no_grad():\n",
    "        predictions = model(tokens_tensor, segments_tensors)\n",
    "\n",
    "    # Get 30 choices for the masked(blank) word \n",
    "    k = 30\n",
    "    predicted_index, predicted_index_values = torch.topk(predictions[0, masked_index], k)\n",
    "    predicted_tokens = tokenizer.convert_ids_to_tokens(predicted_index_values.tolist())\n",
    "    filtered_tokens_to_remove_punctuation = []\n",
    "    # Remove any predictions that contain punctuation etc as they are not relevant to us.\n",
    "    for token in predicted_tokens:\n",
    "        if re.match(\"^[a-zA-Z0-9_]*$\", token):\n",
    "            filtered_tokens_to_remove_punctuation.append(token)\n",
    "        \n",
    "    return filtered_tokens_to_remove_punctuation"
   ]
  },
  {
   "cell_type": "code",
   "execution_count": 3,
   "metadata": {},
   "outputs": [
    {
     "name": "stdout",
     "output_type": "stream",
     "text": [
      "original sentence:  They all look tiny ____ they are so far away from the Earth. \n",
      "\n",
      "predicted choices:  ['because', 'and', 'but', 'as', 'since', 'like', 'when', 'considering', 'for', 'except', 'though', 'that', 'yet', 'although', 'while', 'now', 'if', 'where', 'here', 'even', 'so', 'after', 'from', 'given']\n"
     ]
    }
   ],
   "source": [
    "sentence = \"They all look tiny ____ they are so far away from the Earth.\"\n",
    "print (\"original sentence: \",sentence,\"\\n\")\n",
    "predicted_words = get_predicted_words(sentence)\n",
    "print (\"predicted choices: \", predicted_words)"
   ]
  },
  {
   "cell_type": "markdown",
   "metadata": {},
   "source": [
    "### You can create an UI like below for the teachers or question authors to adjust the top 4 choices with a drag and drop menu before finalizing the worksheet.\n"
   ]
  },
  {
   "cell_type": "markdown",
   "metadata": {},
   "source": [
    "<img src=\"drag_and_drop.PNG\" width=700, height=400>"
   ]
  },
  {
   "cell_type": "markdown",
   "metadata": {},
   "source": [
    "### Step 2: Extracting important keywords (adpositions) and corresponding sentences from a story/article "
   ]
  },
  {
   "cell_type": "code",
   "execution_count": 4,
   "metadata": {},
   "outputs": [
    {
     "name": "stdout",
     "output_type": "stream",
     "text": [
      "Scientists know many things about the Sun. They know how old it is. The Sun is more than 4 billion years old. That would be too many candles to put on a birthday cake!  They also know the Sun's size. The Sun may seem small, but that is because it is so far away. It is about 93 million miles (150 million kilometers) away from the Earth. The Sun is so large that the diameter of the Sun is 109 times the Earth's diameter. The Sun also weighs as much as 333,000 Earths. The Sun is made up of gases: 75% hydrogen and 25% helium.  Hydrogen is the simplest and lightest of all of the known elements. When you combine hydrogen with oxygen, you get water. You probably know what helium is. It is the gas that can be put into balloons to make them stay in the air and float. Scientists also know the temperature of the Sun. The surface of the Sun is about 10,000 degrees Fahrenheit (5,600 degrees Celsius). That might sound hot, but the Sun's core is even hotter. The core is the central region where the temperature reaches about 27 million degrees Fahrenheit (15 million Celsius). The Sun is the center of our Solar System. Besides the Sun, the Solar System is made up of the planets, moons, asteroid belt, comets, meteors, and other objects. The Earth and other planets revolve around the Sun. The Sun is very important. Without it, there would be only darkness and our planet would be very cold and be without liquid water. Our planet would also be without people, animals, and plants because these things need sunlight and water to live. The Sun also gives out dangerous ultraviolet light which causes sunburn and may cause cancer. That is why you need to be careful of the Sun and wear sunscreen and clothing to protect yourself from its rays. Scientists have learned many things about the Sun. They study the Sun using special tools or instruments such as telescopes. One thing they do is to look at the amount of light from the Sun and the effect of the Sun's light on the Earth's climate. The Sun is actually a star. It is the closest star to the Earth.  Scientists also study other stars, huge balls of glowing gas in the sky. There are over 200 billion stars in the sky. Some are much larger than the Sun and others are smaller than the Earth. They all look tiny because they are so far away from the Earth. This distance is measured in light-years, not in miles or kilometers. One light-year is equal to the distance that light travels in one year. This is about six trillion miles or ten trillion kilometers!  Stars look like they are twinkling because when we see them, we are looking at them through thick layers of turbulent (moving) air in the Earth's atmosphere. That is why the words are written in the song: Twinkle, Twinkle, Little Star. Stars have lifetimes of billions of years. They are held together by their own gravity. Over half of the stars in the sky are in groups of two. They orbit around the same center point and across from each other. There are also larger groups of stars called clusters. These clusters of stars make up galaxies. Our Solar System is located in the Milky Way Galaxy. \n"
     ]
    }
   ],
   "source": [
    "# Read an article from a file\n",
    "file_path = \"sun.txt\" #other texts in same directory: \"PSLE.txt\", \"hellenkeller.txt\", \"Grade7_electricity.txt\" , \"material.txt\", \"paperboat.txt\"\n",
    "\n",
    "def read_file(file_path):\n",
    "    with open(file_path, 'r') as content_file:\n",
    "        content = content_file.read()\n",
    "        return content\n",
    "    \n",
    "text = read_file(file_path)\n",
    "print(text)\n"
   ]
  },
  {
   "cell_type": "code",
   "execution_count": 5,
   "metadata": {},
   "outputs": [
    {
     "name": "stdout",
     "output_type": "stream",
     "text": [
      "Adpositions from the text:  ['because', 'from', 'than', 'without', 'around', 'over', 'about', 'like', 'through', 'that']\n"
     ]
    }
   ],
   "source": [
    "\n",
    "\n",
    "#  We will extract some adpositions. An adposition is a cover term for prepositions and postpositions.\n",
    "import pke\n",
    "import string\n",
    "\n",
    "def get_adpositions_multipartite(text):\n",
    "    out=[]\n",
    "\n",
    "    extractor = pke.unsupervised.MultipartiteRank()\n",
    "    extractor.load_document(input=text)\n",
    "    #    not contain punctuation marks or stopwords as candidates.\n",
    "    pos = {'ADP'} #Adpositions\n",
    "    stoplist = list(string.punctuation)\n",
    "    stoplist += ['-lrb-', '-rrb-', '-lcb-', '-rcb-', '-lsb-', '-rsb-']\n",
    "    extractor.candidate_selection(pos=pos, stoplist=stoplist)\n",
    "    # 4. build the Multipartite graph and rank candidates using random walk,\n",
    "    #    alpha controls the weight adjustment mechanism, see TopicRank for\n",
    "    #    threshold/method parameters.\n",
    "    extractor.candidate_weighting(alpha=1.1,\n",
    "                                  threshold=0.75,\n",
    "                                  method='average')\n",
    "    keyphrases = extractor.get_n_best(n=10)\n",
    "\n",
    "    for key in keyphrases:\n",
    "        out.append(key[0])\n",
    "\n",
    "    return out\n",
    "\n",
    "\n",
    "adpositions = get_adpositions_multipartite(text)\n",
    "print (\"Adpositions from the text: \",adpositions)"
   ]
  },
  {
   "cell_type": "code",
   "execution_count": 6,
   "metadata": {},
   "outputs": [
    {
     "name": "stdout",
     "output_type": "stream",
     "text": [
      "[nltk_data] Downloading package punkt to /home/ec2-user/nltk_data...\n",
      "[nltk_data]   Package punkt is already up-to-date!\n",
      "because  :  [\"Stars look like they are twinkling because when we see them, we are looking at them through thick layers of turbulent (moving) air in the Earth's atmosphere.\", 'Our planet would also be without people, animals, and plants because these things need sunlight and water to live.', 'They all look tiny because they are so far away from the Earth.', 'The Sun may seem small, but that is because it is so far away.'] \n",
      "\n",
      "from  :  [\"One thing they do is to look at the amount of light from the Sun and the effect of the Sun's light on the Earth's climate.\", 'That is why you need to be careful of the Sun and wear sunscreen and clothing to protect yourself from its rays.', 'It is about 93 million miles (150 million kilometers) away from the Earth.', 'They orbit around the same center point and across from each other.', 'They all look tiny because they are so far away from the Earth.'] \n",
      "\n",
      "than  :  ['Some are much larger than the Sun and others are smaller than the Earth.', 'Some are much larger than the Sun and others are smaller than the Earth.', 'The Sun is more than 4 billion years old.'] \n",
      "\n",
      "without  :  ['Our planet would also be without people, animals, and plants because these things need sunlight and water to live.', 'Without it, there would be only darkness and our planet would be very cold and be without liquid water.', 'Without it, there would be only darkness and our planet would be very cold and be without liquid water.'] \n",
      "\n",
      "around  :  ['They orbit around the same center point and across from each other.', 'The Earth and other planets revolve around the Sun.'] \n",
      "\n",
      "over  :  ['Over half of the stars in the sky are in groups of two.', 'There are over 200 billion stars in the sky.'] \n",
      "\n",
      "about  :  ['The core is the central region where the temperature reaches about 27 million degrees Fahrenheit (15 million Celsius).', 'The surface of the Sun is about 10,000 degrees Fahrenheit (5,600 degrees Celsius).', 'It is about 93 million miles (150 million kilometers) away from the Earth.', 'This is about six trillion miles or ten trillion kilometers!', 'Scientists have learned many things about the Sun.', 'Scientists know many things about the Sun.'] \n",
      "\n",
      "like  :  [\"Stars look like they are twinkling because when we see them, we are looking at them through thick layers of turbulent (moving) air in the Earth's atmosphere.\"] \n",
      "\n",
      "through  :  [\"Stars look like they are twinkling because when we see them, we are looking at them through thick layers of turbulent (moving) air in the Earth's atmosphere.\"] \n",
      "\n",
      "that  :  ['That is why you need to be careful of the Sun and wear sunscreen and clothing to protect yourself from its rays.', \"The Sun is so large that the diameter of the Sun is 109 times the Earth's diameter.\", 'It is the gas that can be put into balloons to make them stay in the air and float.', 'That is why the words are written in the song: Twinkle, Twinkle, Little Star.', 'One light-year is equal to the distance that light travels in one year.', 'The Sun may seem small, but that is because it is so far away.', 'That would be too many candles to put on a birthday cake!', \"That might sound hot, but the Sun's core is even hotter.\"] \n",
      "\n"
     ]
    }
   ],
   "source": [
    "# Get all the sentences for a given adpostion word. So each word may have mulitple sentences.\n",
    "from nltk.tokenize import sent_tokenize\n",
    "import nltk\n",
    "nltk.download('punkt')\n",
    "from flashtext import KeywordProcessor\n",
    "\n",
    "def tokenize_sentences(text):\n",
    "    sentences = [sent_tokenize(text)]\n",
    "    sentences = [y for x in sentences for y in x]\n",
    "    # Remove any short sentences less than 20 letters.\n",
    "    sentences = [sentence.strip() for sentence in sentences if len(sentence) > 20]\n",
    "    return sentences\n",
    "sentences = tokenize_sentences(text)\n",
    "\n",
    "def get_sentences_for_keyword(keywords, sentences):\n",
    "    keyword_processor = KeywordProcessor()\n",
    "    keyword_sentences = {}\n",
    "    for word in keywords:\n",
    "        keyword_sentences[word] = []\n",
    "        keyword_processor.add_keyword(word)\n",
    "    for sentence in sentences:\n",
    "        keywords_found = keyword_processor.extract_keywords(sentence)\n",
    "        for key in keywords_found:\n",
    "            keyword_sentences[key].append(sentence)\n",
    "\n",
    "    for key in keyword_sentences.keys():\n",
    "        values = keyword_sentences[key]\n",
    "        values = sorted(values, key=len, reverse=True)\n",
    "        keyword_sentences[key] = values\n",
    "    return keyword_sentences\n",
    "\n",
    "keyword_sentence_mapping_adpos = get_sentences_for_keyword(adpositions, sentences)\n",
    "\n",
    "for word in keyword_sentence_mapping_adpos:\n",
    "    print (word, \" : \",keyword_sentence_mapping_adpos[word],\"\\n\")"
   ]
  },
  {
   "cell_type": "code",
   "execution_count": 7,
   "metadata": {},
   "outputs": [
    {
     "name": "stdout",
     "output_type": "stream",
     "text": [
      "They all look tiny ____ they are so far away from the Earth.\n",
      "['because', 'and', 'but', 'as', 'since', 'like', 'when', 'considering', 'for', 'except', 'though', 'that', 'yet', 'although', 'while', 'now', 'if', 'where', 'here', 'even', 'so', 'after', 'from', 'given']\n",
      "\n",
      "\n",
      "\n",
      "They all look tiny because they are so far away ____ the Earth.\n",
      "['from', 'on', 'in', 'off', 'beneath', 'to', 'above', 'under', 'than', 'underneath', 'below', 'into', 'with', 'across', 'over', 'behind', 'of', 'by', 'near', 'form', 'inside', 'like', 'at', 'and', 'toward', 'down', 'towards', 'for', 'within']\n",
      "\n",
      "\n",
      "\n",
      "The Sun is more ____ 4 billion years old.\n",
      "['than', 'that', 'like', 'likely', 'recently', 'exactly', 'then', 'precisely', 'of', 'to', 'commonly', 'nearly', 'probably', 'recent', 'the', 'fully', 'so', 'typically', 'even', 'as', 'accurately', 'resembles', 'specifically', 'generally', 'yet', 'this', 'akin', 'often']\n",
      "\n",
      "\n",
      "\n",
      "Our planet would also be ____ people, animals, and plants because these things need sunlight and water to live.\n",
      "['without', 'for', 'producing', 'eating', 'like', 'missing', 'of', 'having', 'with', 'lacking', 'around', 'losing', 'barren', 'killing', 'protecting', 'mostly', 'containing', 'including', 'about', 'farming', 'raining', 'all', 'saving', 'destroying', 'mainly', 'growing', 'rich', 'just', 'supporting', 'housing']\n",
      "\n",
      "\n",
      "\n",
      "The Earth and other planets revolve ____ the Sun.\n",
      "['around', 'round', 'near', 'about', 'along', 'under', 'surrounding', 'on', 'in', 'above', 'within', 'at', 'outside', 'over', 'below', 'beneath', 'by', 'of', 'toward', 'towards', 'inside', 'surrounded', 'upon', 'underneath', 'circling', 'with', 'before', 'against', 'from', 'beside']\n",
      "\n",
      "\n",
      "\n",
      "There are ____ 200 billion stars in the sky.\n",
      "['over', 'about', 'approximately', 'around', 'nearly', 'roughly', 'some', 'almost', 'currently', 'now', 'also', 'probably', 'estimated', 'near', 'only', 'possibly', 'perhaps', 'another', 'actually', 'literally', 'exactly', 'a', 'many', 'still', 'already', 'maybe', 'circa', 'reportedly', 'potentially']\n",
      "\n",
      "\n",
      "\n",
      "Scientists know many things ____ the Sun.\n",
      "['about', 'of', 'like', 'concerning', 'on', 'regarding', 'around', 'from', 'in', 'under', 'beyond', 'involving', 'with', 'for', 'besides', 'over', 'surrounding', 'to', 'as', 'through', 'including', 'at', 'and', 'by', 'than', 'except']\n",
      "\n",
      "\n",
      "\n",
      "Stars look ____ they are twinkling because when we see them, we are looking at them through thick layers of turbulent (moving) air in the Earth's atmosphere.\n",
      "['like', 'as', 'when', 'and', 'where', 'because', 'how', 'but', 'everywhere', 'that', 'whenever', 'so', 'while', 'if', 'what', 'except', 'mean', 'or', 'for', 'until', 'unless', 'though', 'alike']\n",
      "\n",
      "\n",
      "\n",
      "Stars look like they are twinkling because when we see them, we are looking at them ____ thick layers of turbulent (moving) air in the Earth's atmosphere.\n",
      "['as', 'like', 'through', 'in', 'from', 'under', 'with', 'above', 'over', 'behind', 'are', 'beneath', 'via', 'for', 'on', 'being', 'and', 'the', 'between', 'because', 'underneath', 'within', 'were', 'against']\n",
      "\n",
      "\n",
      "\n",
      "The Sun may seem small, but ____ is because it is so far away.\n",
      "['that', 'it', 'this', 'so', 'everything', 'which', 'something', 'here', 'much', 'probably', 'mine', 'mostly', 'more', 'there', 'maybe', 'he', 'perhaps', 'she', 'such', 'one', 'time', 'also', 'anything', 'reason', 'important', 'better', 'me', 'most', 'really']\n",
      "\n",
      "\n",
      "\n"
     ]
    }
   ],
   "source": [
    "#  For every adposition word we have multiple sentences. For every sentence we blank the adposition word and ask BERT \n",
    "#  to predict the top N choices. Then make a note of index of the correct answer in the predicitons. Then we sort the\n",
    "# sentences by the index and pick the top one.\n",
    "def get_best_sentence_and_options(word, sentences_array):\n",
    "    keyword = word\n",
    "    sentences = sentences_array\n",
    "    sentences = sorted(sentences, key=len, reverse=False)\n",
    "    max_no = min(5, len(sentences))\n",
    "    sentences = sentences[:max_no]\n",
    "    choices_filtered = []\n",
    "    ordered_sentences = []\n",
    "    for sentence in sentences:\n",
    "        insensitive_line = re.compile(re.escape(keyword), re.IGNORECASE)\n",
    "        no_of_replacements =  len(re.findall(re.escape(keyword),sentence,re.IGNORECASE))\n",
    "        #blanked_sentence = sentence.replace(keyword, \"____\", 1)\n",
    "        blanked_sentence = insensitive_line.sub(\"____\", sentence)\n",
    "        blanks = get_predicted_words(blanked_sentence)\n",
    "\n",
    "        if blanks is not None:\n",
    "            choices_filtered = blanks\n",
    "            try:\n",
    "                word_index = choices_filtered.index(keyword.lower())\n",
    "                if no_of_replacements<2:\n",
    "                    ordered_sentences.append((blanked_sentence, choices_filtered, word_index))\n",
    "            except:\n",
    "                pass\n",
    "\n",
    "    ordered_sentences = sorted(ordered_sentences, key=lambda x: x[2])\n",
    "    if len(ordered_sentences) > 0:\n",
    "        return (ordered_sentences[0][0], ordered_sentences[0][1])\n",
    "    else:\n",
    "        return None, None\n",
    "    \n",
    "for each_adpos in adpositions:\n",
    "    sentence, best_options = get_best_sentence_and_options(each_adpos, keyword_sentence_mapping_adpos[each_adpos])\n",
    "    print (sentence)\n",
    "    print (best_options)\n",
    "    print (\"\\n\\n\")"
   ]
  },
  {
   "cell_type": "markdown",
   "metadata": {},
   "source": [
    "### If you format it by randomizing the first 4 options and hiding extra options as drag and drop, the UI can look like this -"
   ]
  },
  {
   "cell_type": "markdown",
   "metadata": {},
   "source": [
    "<img src=\"list.PNG\" width=700, height=400>"
   ]
  },
  {
   "cell_type": "code",
   "execution_count": null,
   "metadata": {},
   "outputs": [],
   "source": []
  }
 ],
 "metadata": {
  "kernelspec": {
   "display_name": "conda_pytorch_p36",
   "language": "python",
   "name": "conda_pytorch_p36"
  },
  "language_info": {
   "codemirror_mode": {
    "name": "ipython",
    "version": 3
   },
   "file_extension": ".py",
   "mimetype": "text/x-python",
   "name": "python",
   "nbconvert_exporter": "python",
   "pygments_lexer": "ipython3",
   "version": "3.6.5"
  }
 },
 "nbformat": 4,
 "nbformat_minor": 2
}
